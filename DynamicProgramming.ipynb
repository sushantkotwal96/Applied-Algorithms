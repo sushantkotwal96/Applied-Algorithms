{
 "cells": [
  {
   "cell_type": "markdown",
   "id": "e4819bbe",
   "metadata": {},
   "source": [
    "## Problem 1: Pattern-matching: The brute-force\n",
    "\n",
    "### Problem 1.1: The brute-force pattern-matching algorithm\n",
    "Describe a text D and a pattern P such that the brute-force pattern-matching algorithm runs in Ω(dp) time.The lengths of D and P are d and p, respectively."
   ]
  },
  {
   "cell_type": "code",
   "execution_count": 19,
   "id": "5c7c6b4b",
   "metadata": {},
   "outputs": [],
   "source": [
    "def brute_pattern(D, P):\n",
    "    d, p = len(D), len(P)\n",
    "    \n",
    "    for i in range(d - p + 1):\n",
    "        k = 0\n",
    "        while k < p and D[i + k] == P[k]:\n",
    "            k +=1\n",
    "        if k == p:\n",
    "            return i\n",
    "    \n",
    "    return -1"
   ]
  },
  {
   "cell_type": "code",
   "execution_count": 20,
   "id": "6cf248d6",
   "metadata": {},
   "outputs": [
    {
     "name": "stdout",
     "output_type": "stream",
     "text": [
      "Enter the Text : abaadbacdbaddtaaab\n",
      "Enter the Pattern: aaab\n",
      "The lowest index of the text abaadbacdbaddtaaab at which substring aaab begins is at 14 position \n"
     ]
    }
   ],
   "source": [
    "text = input(\"Enter the Text : \")\n",
    "pattern = input(\"Enter the Pattern: \")\n",
    "index = brute_pattern(text, pattern)\n",
    "print(f'The lowest index of the text {text} at which substring {pattern} begins is at {index} position ')"
   ]
  },
  {
   "cell_type": "markdown",
   "id": "9ff3ce14",
   "metadata": {},
   "source": [
    "## Solution: \n",
    "\n",
    "1. We have implemented this pattern matching algorithm using Brute-Force approach. In this approach, we check and match every      character in pattern P with the text in D. \n",
    "2. It is very exhaustive in it's search and very inefficient. In this algorithm, when we match the first characters of both the    pattern and the text and if we get a match, we do the same step with the second character, then the third and so on. \n",
    "3. However if we get a mismatch between the two characters, we shift the pattern by one character and try matching the              characters for pattern and the text again. \n",
    "4. After finding the match for all characters, we return the starting index from where the match began. \n",
    "5. The running time for this algorithm is O(dp) where d and p are lengths of text and pattern respectively. \n",
    "6. For our case, D=\"abaadbacdbaddtaaab\" and P=\"aaab\". The brute force algorithm checks for each character of P in D. In our case    the match happens at the index 14 i.e. at the end of the text. So for p characters in the pattern, it matches d number of        times. Therefore our brute-force pattern-matching algorithm runs in Ω(dp)."
   ]
  },
  {
   "cell_type": "markdown",
   "id": "c9e080a4",
   "metadata": {},
   "source": [
    "### Problem 1.2: Python’s str class and pattern-matching\n",
    "In this part, you are asked to modify three pattern matching programs given to you (See appendix). Run your modified programs for varying-length patterns and show your results. The count method in Python’s str class takes a text D and a pattern P and returns the maximum number of non-overlapping occurrences of a P within D. As an example ‘cdcdcdcdc’.count(‘cdc’) returns 2."
   ]
  },
  {
   "cell_type": "code",
   "execution_count": 44,
   "id": "48777ad6",
   "metadata": {},
   "outputs": [],
   "source": [
    "def brute_pattern(D, P):\n",
    "    d, p = len(D), len(P)\n",
    "    count = 0\n",
    "    i = 0\n",
    "    while (i < d - p + 1):\n",
    "        k = 0\n",
    "        while k < p and D[i + k] == P[k]:\n",
    "            k += 1\n",
    "            \n",
    "        if k == p:\n",
    "            count += 1\n",
    "            i += k\n",
    "        else:\n",
    "            i += 1\n",
    "    \n",
    "    return count\n",
    "\n",
    "\n",
    "def brute_pattern_overlap(D, P):\n",
    "    count = 0\n",
    "    n, m = len(D), len(P)\n",
    "    i = 0\n",
    "    while i < (n-m+1):\n",
    "        k = 0\n",
    "        while k < m and D[i+k] == P[k]:\n",
    "            k += 1\n",
    "        if k == m:\n",
    "            count += 1\n",
    "        i += 1\n",
    "    return count"
   ]
  },
  {
   "cell_type": "code",
   "execution_count": 50,
   "id": "da0ba3a8",
   "metadata": {},
   "outputs": [],
   "source": [
    "def random_strings(l, s):\n",
    "    return ''.join(random.choice(letters) for i in range(s))\n",
    "\n",
    "random.seed(5)\n",
    "letters = \"cd\"\n",
    "\n",
    "random_string = random_strings(letters, 10**5)\n",
    "P = \"ccd\"\n",
    "\n",
    "T = random_string + P"
   ]
  },
  {
   "cell_type": "code",
   "execution_count": 62,
   "id": "8b6c0898",
   "metadata": {},
   "outputs": [
    {
     "name": "stdout",
     "output_type": "stream",
     "text": [
      "\n",
      "Text : cdcdcdcdc \n",
      "Pattern : cdc\n",
      "\n",
      "The maximum number of overlapping occurrences of a P within D are 4 \n",
      "\n",
      "The maximum number of non-overlapping occurrences of a P within D without using the in - built count() function are 2 \n",
      "\n",
      "The maximum number of non-overlapping occurrences of a P within D with using the in - built count() function are 2 \n",
      "\n",
      "Text : cdcdcdcdc \n",
      "Pattern : cd\n",
      "\n",
      "The maximum number of overlapping occurrences of a P within D are 4 \n",
      "\n",
      "The maximum number of non-overlapping occurrences of a P within D without using the in - built count() function are 4 \n",
      "\n",
      "The maximum number of non-overlapping occurrences of a P within D with using the in - built count() function are 4 \n",
      "\n",
      "\n",
      "Checking the occurrences for very large size of text\n",
      "\n",
      "The maximum number of overlapping occurrences of a P within T for a large value of T are 10 \n",
      "\n",
      "The maximum number of non-overlapping occurrences of a P within for a large value of T are 10 \n"
     ]
    }
   ],
   "source": [
    "inputs = [\"cdcdcdcdc\",\"cdc\",\"cdcdcdcdc\",\"cd\"] # text, pattern, text, pattern ...\n",
    "\n",
    "for i in range(0,len(inputs)-1,2):\n",
    "    text = inputs[i]\n",
    "    pattern = inputs[i + 1]\n",
    "    print(f'\\nText : {text} \\nPattern : {pattern}')\n",
    "    count = brute_pattern(text, pattern)\n",
    "    count1 = brute_pattern_overlap(text,pattern)\n",
    "    print(f'\\nThe maximum number of overlapping occurrences of a P within D are {count1} ')\n",
    "    print(f'\\nThe maximum number of non-overlapping occurrences of a P within D without using the in - built count() function are {count} ')\n",
    "    print(f'\\nThe maximum number of non-overlapping occurrences of a P within D with using the in - built count() function are {text.count(pattern)} ')\n",
    "\n",
    "count2 = brute_pattern_overlap(T,P)\n",
    "count3 = brute_pattern(T,P)\n",
    "print(\"\\n\")\n",
    "print(\"Checking the occurrences for very large size of text\")\n",
    "print(f'\\nThe maximum number of overlapping occurrences of a P within T for a large value of T are {count2} ')\n",
    "print(f'\\nThe maximum number of non-overlapping occurrences of a P within for a large value of T are {count3} ')"
   ]
  },
  {
   "cell_type": "code",
   "execution_count": 63,
   "id": "f1459c3c",
   "metadata": {},
   "outputs": [],
   "source": [
    "def find_boyer_moore(D, P):\n",
    "    d, p = len(D), len(P)\n",
    "    count = 0\n",
    "    \n",
    "    if p == 0:\n",
    "        return 0\n",
    "    \n",
    "    last = {}\n",
    "    \n",
    "    for x in range(p):\n",
    "        last[P[x]] = x\n",
    "    \n",
    "    i = p - 1\n",
    "    k = p - 1\n",
    "    \n",
    "    while i < d - 1:\n",
    "        # if match, decrease i, k\n",
    "        \n",
    "        if D[i] == P[k]:\n",
    "            if k == 0:\n",
    "                count += 1\n",
    "                i += p\n",
    "            else:\n",
    "                i -= 1\n",
    "                k -= 1\n",
    "                \n",
    "        # Not match, reset the position\n",
    "        else:\n",
    "            j = last.get(D[i], -1)\n",
    "            i += p - min(k, j + 1)\n",
    "            k = p - 1\n",
    "            \n",
    "    return count\n",
    "\n",
    "def find_boyer_moore_overlap(D, P):\n",
    "    count = 0\n",
    "    n, m = len(D), len(P)\n",
    "    if m == 0: \n",
    "        return 0\n",
    "    last = {}\n",
    "    for k in range(m):\n",
    "        last[P[k]] = k\n",
    "    i = m-1\n",
    "    k = m-1\n",
    "    while i < n:\n",
    "        if D[i] == P[k]:\n",
    "            if k == 0:\n",
    "                count += 1\n",
    "                i += m\n",
    "                k = m-1\n",
    "            else:\n",
    "                i -= 1\n",
    "                k -= 1\n",
    "        else:\n",
    "            j = last.get(D[i], -1)\n",
    "            i += m - min(k, j+1)\n",
    "            k = m-1\n",
    "    return count"
   ]
  },
  {
   "cell_type": "code",
   "execution_count": 64,
   "id": "0e3f467d",
   "metadata": {},
   "outputs": [
    {
     "name": "stdout",
     "output_type": "stream",
     "text": [
      "\n",
      "Text : cdcdcdcdc \n",
      "Pattern : cdc\n",
      "\n",
      "The maximum number of overlapping occurrences of a P within D are 4 \n",
      "\n",
      "The maximum number of non-overlapping occurrences of a P within D without using the in - built count() function are 2 \n",
      "\n",
      "The maximum number of non-overlapping occurrences of a P within D with using the in - built count() function are 2 \n",
      "\n",
      "Text : cdcdcdcdc \n",
      "Pattern : cd\n",
      "\n",
      "The maximum number of overlapping occurrences of a P within D are 4 \n",
      "\n",
      "The maximum number of non-overlapping occurrences of a P within D without using the in - built count() function are 4 \n",
      "\n",
      "The maximum number of non-overlapping occurrences of a P within D with using the in - built count() function are 4 \n",
      "\n",
      "\n",
      "Checking the occurrences for very large size of text\n",
      "\n",
      "The maximum number of overlapping occurrences of a P within T for a large value of T are 10 \n",
      "\n",
      "The maximum number of non-overlapping occurrences of a P within for a large value of T are 15 \n"
     ]
    }
   ],
   "source": [
    "inputs = [\"cdcdcdcdc\",\"cdc\",\"cdcdcdcdc\",\"cd\"] # text, pattern, text, pattern ...\n",
    "\n",
    "for i in range(0,len(inputs)-1,2):\n",
    "    text = inputs[i]\n",
    "    pattern = inputs[i + 1]\n",
    "    print(f'\\nText : {text} \\nPattern : {pattern}')\n",
    "    count = find_boyer_moore(text, pattern)\n",
    "    count1 = find_boyer_moore_overlap(text,pattern)\n",
    "    print(f'\\nThe maximum number of overlapping occurrences of a P within D are {count1} ')\n",
    "    print(f'\\nThe maximum number of non-overlapping occurrences of a P within D without using the in - built count() function are {count} ')\n",
    "    print(f'\\nThe maximum number of non-overlapping occurrences of a P within D with using the in - built count() function are {text.count(pattern)} ')\n",
    "\n",
    "    \n",
    "count4 = find_boyer_moore_overlap(T,P)\n",
    "count5 = find_boyer_moore(T,P)\n",
    "print(\"\\n\")\n",
    "print(\"Checking the occurrences for very large size of text\")\n",
    "print(f'\\nThe maximum number of overlapping occurrences of a P within T for a large value of T are {count4} ')\n",
    "print(f'\\nThe maximum number of non-overlapping occurrences of a P within for a large value of T are {count5} ')"
   ]
  },
  {
   "cell_type": "code",
   "execution_count": 65,
   "id": "5797feb0",
   "metadata": {},
   "outputs": [],
   "source": [
    "def compute_kmp_pi_table(P):\n",
    "    \n",
    "    p = len(P)\n",
    "    lps = [0] * p\n",
    "    \n",
    "    j = 1\n",
    "    k = 0\n",
    "    \n",
    "    while j < p:\n",
    "        if P[j] == P[k]:\n",
    "            lps[j] = k + 1\n",
    "            j += 1\n",
    "            k += 1\n",
    "            \n",
    "        elif k > 0:\n",
    "            k = lps[k - 1]\n",
    "        \n",
    "        else:\n",
    "            j += 1\n",
    "    \n",
    "    return lps\n",
    "\n",
    "def find_kmp(D, P):\n",
    "    \n",
    "    d, p = len(D), len(P)\n",
    "    if p == 0:\n",
    "        return 0\n",
    "    \n",
    "    pi_table = compute_kmp_pi_table(P)\n",
    "    \n",
    "    i = 0\n",
    "    j = 0\n",
    "    count = 0\n",
    "    \n",
    "    while i < d:\n",
    "        if D[i] == P[j]:\n",
    "            if j == p - 1:\n",
    "                count += 1\n",
    "                i += j\n",
    "                j = 0\n",
    "            else:\n",
    "                i += 1\n",
    "                j += 1\n",
    "\n",
    "        elif j > 0:\n",
    "            j = pi_table[j - 1]\n",
    "        \n",
    "        else:      # When j is 0\n",
    "            i += 1\n",
    "            \n",
    "    return count\n",
    "\n",
    "def find_kmp_overalap(D, P):\n",
    "    count = 0\n",
    "    n, m = len(D), len(P)\n",
    "    if m == 0:\n",
    "        return 0\n",
    "    fail = compute_kmp_pi_table(P)\n",
    "    j = 0\n",
    "    k = 0\n",
    "    while j < n:\n",
    "        if D[j] == P[k]:\n",
    "            if k == m-1:\n",
    "                count += 1\n",
    "                k = fail[k-1]\n",
    "            else:\n",
    "                j += 1\n",
    "                k += 1\n",
    "        elif k > 0:\n",
    "            k = fail[k-1]\n",
    "        else:\n",
    "            j += 1\n",
    "    return count"
   ]
  },
  {
   "cell_type": "code",
   "execution_count": 66,
   "id": "70e40eeb",
   "metadata": {},
   "outputs": [
    {
     "name": "stdout",
     "output_type": "stream",
     "text": [
      "\n",
      "Text : cdcdcdcdc \n",
      "Pattern : cdc\n",
      "\n",
      "The maximum number of overlapping occurrences of a P within D are 4 \n",
      "\n",
      "The maximum number of non-overlapping occurrences of a P within D without using the in - built count() function are 2 \n",
      "\n",
      "The maximum number of non-overlapping occurrences of a P within D with using the in - built count() function are 2 \n",
      "\n",
      "Text : cdcdcdcdc \n",
      "Pattern : cd\n",
      "\n",
      "The maximum number of overlapping occurrences of a P within D are 4 \n",
      "\n",
      "The maximum number of non-overlapping occurrences of a P within D without using the in - built count() function are 4 \n",
      "\n",
      "The maximum number of non-overlapping occurrences of a P within D with using the in - built count() function are 4 \n",
      "\n",
      "\n",
      "Checking the occurrences for very large size of text\n",
      "\n",
      "The maximum number of overlapping occurrences of a P within T for a large value of T are 10 \n",
      "\n",
      "The maximum number of non-overlapping occurrences of a P within for a large value of T are 10 \n"
     ]
    }
   ],
   "source": [
    "inputs = [\"cdcdcdcdc\",\"cdc\",\"cdcdcdcdc\",\"cd\"] # text, pattern, text, pattern ...\n",
    "\n",
    "for i in range(0,len(inputs)-1,2):\n",
    "    text = inputs[i]\n",
    "    pattern = inputs[i + 1]\n",
    "    print(f'\\nText : {text} \\nPattern : {pattern}')\n",
    "    count = find_kmp(text, pattern)\n",
    "    count1 = find_kmp_overalap(text,pattern)\n",
    "    print(f'\\nThe maximum number of overlapping occurrences of a P within D are {count1} ')\n",
    "    print(f'\\nThe maximum number of non-overlapping occurrences of a P within D without using the in - built count() function are {count} ')\n",
    "    print(f'\\nThe maximum number of non-overlapping occurrences of a P within D with using the in - built count() function are {text.count(pattern)} ')\n",
    "    \n",
    "\n",
    "    \n",
    "count5 = find_kmp_overalap(T,P)\n",
    "count6 = find_kmp(T,P)\n",
    "print(\"\\n\")\n",
    "print(\"Checking the occurrences for very large size of text\")\n",
    "print(f'\\nThe maximum number of overlapping occurrences of a P within T for a large value of T are {count5} ')\n",
    "print(f'\\nThe maximum number of non-overlapping occurrences of a P within for a large value of T are {count6} ')"
   ]
  },
  {
   "cell_type": "markdown",
   "id": "1060d8eb",
   "metadata": {},
   "source": [
    "## Solution:\n",
    "\n",
    "1. We have implemented the pattern matching algorithms by checking the number of overlapping as well as non-overlapping occurences of the pattern string in text\n",
    "2. We have also used the in-built count method for checking the non-overlapping occurences\n",
    "3. First we checked our pattern \"cdc\" with the text \"cdcdcdcdc\" for overlapping and non-overlapping occurences. Here the last character in the pattern i.e. \"c\" overlaps with the next occurence of \"cdc\". So for non-overlapping occurences such an occurence is ignored.\n",
    "4. Then directly the occurence in which \"c\" does not overlap with the next occurence is checked. So after doing that we get our number of occurence as 2. \n",
    "5. For overlapping occurences, we get the number of occurences as 4.\n",
    "6. The same logic is applied to our second case in which the number of non-overlapping and overlapping occurences are same.\n",
    "7. Then lastly we checked for a large sized text and a small pattern and got the number of overlapping and non-overlapping occurences for both"
   ]
  },
  {
   "cell_type": "markdown",
   "id": "2fda6c7d",
   "metadata": {},
   "source": [
    "## Problem 2: Experimental Analysis of Pattern-Matching Algorithms\n",
    "\n",
    "Perform an experimental analysis of pattern matching algorithms in terms of:\n",
    "\n",
    "1. Number of character comparison: Perform an experimental analysis of the efficiency of the brute-force, the KMP and Boyer-        Moore pattern matching algorithms for varying-length patterns.\n",
    "2. Relative speed comparison: Perform an experimental comparison of the brute-force, KMP, and Boyer-Moore pattern-matching          algorithms. Run each algorithm against large text documents using varying-length patterns and report the relative running        times."
   ]
  },
  {
   "cell_type": "code",
   "execution_count": 32,
   "id": "53e77257",
   "metadata": {},
   "outputs": [],
   "source": [
    "# Brute- force algorithm\n",
    "def brute_pattern(D, P):\n",
    "    d, p = len(D), len(P)\n",
    "    \n",
    "    char_compare = 0\n",
    "    \n",
    "    for i in range(d - p + 1):\n",
    "        k = 0\n",
    "        if D[i + k] != P[k]:\n",
    "            char_compare += 1\n",
    "            \n",
    "        while k < p and D[i + k] == P[k]:\n",
    "            char_compare += 1\n",
    "            k +=1\n",
    "        if k == p:\n",
    "            return char_compare\n",
    "    return char_compare\n",
    "\n",
    "# Boyer Moore Algorithm\n",
    "def find_boyer_moore(D, P):\n",
    "    d, p = len(D), len(P)\n",
    "    char_compare = 0\n",
    "    if p == 0:\n",
    "        return 0\n",
    "    \n",
    "    last = {}\n",
    "    \n",
    "    for x in range(p):\n",
    "        last[P[x]] = x\n",
    "    \n",
    "    i = p - 1\n",
    "    k = p - 1\n",
    "    \n",
    "    while i < d:\n",
    "        # if match, decrease i, k\n",
    "        \n",
    "        if D[i] == P[k]:\n",
    "            if k == 0:\n",
    "                return char_compare\n",
    "            else:\n",
    "                char_compare += 1\n",
    "                i -= 1\n",
    "                k -= 1\n",
    "                \n",
    "        # Not match, reset the position\n",
    "        else:\n",
    "            char_compare += 1\n",
    "            j = last.get(D[i], -1)\n",
    "            i += p - min(k, j + 1)\n",
    "            k = p - 1\n",
    "            \n",
    "    return char_compare\n",
    "\n",
    "# KMP Algorithm\n",
    "def compute_kmp_pi_table(P):\n",
    "    \n",
    "    p = len(P)\n",
    "    lps = [0] * p\n",
    "    \n",
    "    j = 1\n",
    "    k = 0\n",
    "    \n",
    "    \n",
    "    while j < p:\n",
    "        if P[j] == P[k]:\n",
    "            lps[j] = k + 1\n",
    "            j += 1\n",
    "            k += 1\n",
    "            \n",
    "        elif k > 0:\n",
    "            k = lps[k - 1]\n",
    "        \n",
    "        else:\n",
    "            j += 1\n",
    "    \n",
    "    return lps\n",
    "\n",
    "def find_kmp(D, P):\n",
    "    \n",
    "    d, p = len(D), len(P)\n",
    "    if p == 0:\n",
    "        return 0\n",
    "    char_compare = 0\n",
    "    pi_table = compute_kmp_pi_table(P)\n",
    "    \n",
    "    i = 0\n",
    "    j = 0\n",
    "    \n",
    "    while i < d:\n",
    "        if D[i] == P[j]:\n",
    "            if j == p - 1:\n",
    "                return char_compare\n",
    "            char_compare += 1\n",
    "            i += 1\n",
    "            j += 1\n",
    "\n",
    "        elif j > 0:\n",
    "            char_compare += 1\n",
    "            j = pi_table[j - 1]\n",
    "        \n",
    "        else:      # When j is 0\n",
    "            char_compare += 1\n",
    "            i += 1\n",
    "            \n",
    "    return char_compare"
   ]
  },
  {
   "cell_type": "code",
   "execution_count": 33,
   "id": "c1513061",
   "metadata": {},
   "outputs": [
    {
     "data": {
      "text/plain": [
       "<BarContainer object of 3 artists>"
      ]
     },
     "execution_count": 33,
     "metadata": {},
     "output_type": "execute_result"
    },
    {
     "data": {
      "image/png": "[encoded data removed]",
      "text/plain": [
       "<Figure size 720x360 with 1 Axes>"
      ]
     },
     "metadata": {
      "needs_background": "light"
     },
     "output_type": "display_data"
    }
   ],
   "source": [
    "import numpy as np\n",
    "import matplotlib.pyplot as plt\n",
    "import string\n",
    "import random\n",
    "import time\n",
    "\n",
    "fig = plt.figure(figsize = (10, 5))\n",
    "\n",
    "algorithms = [\"Brute-Force\", \"Boyer-Moore\",\"KMP\"]\n",
    "\n",
    "\n",
    "char_bf = []\n",
    "char_bm = []\n",
    "char_kmp = []\n",
    "\n",
    "time1 = []\n",
    "time2 = []\n",
    "time3 = []\n",
    "n = []\n",
    "\n",
    "for i in range(1,100000,1000):\n",
    "    \n",
    "    \n",
    "    pattern = ''.join(random.choices(string.ascii_uppercase, k = 500 + i))\n",
    "    text = ''.join(random.choices(string.ascii_uppercase, k = 10000 + i)) + pattern\n",
    "    \n",
    "    n.append(len(pattern))\n",
    "    \n",
    "    start1 = time.time()\n",
    "    brute_force = brute_pattern(text, pattern)\n",
    "    end1 = time.time()\n",
    "    time1.append(end1 - start1)\n",
    "    char_bf.append(brute_force)\n",
    "    \n",
    "    start2 = time.time()\n",
    "    boyer_moore = find_boyer_moore(text, pattern)\n",
    "    end2 = time.time()\n",
    "    time2.append(end2 - start2)\n",
    "    char_bm.append(boyer_moore)\n",
    "    \n",
    "    \n",
    "    start3 = time.time()\n",
    "    kmp = find_kmp(text, pattern)\n",
    "    end3 = time.time()\n",
    "    time3.append(end3 - start3)\n",
    "    char_kmp.append(kmp)\n",
    "\n",
    "comparisons = [brute_force, boyer_moore, kmp]\n",
    "\n",
    "plt.bar(algorithms, comparisons, color ='blue', width = 0.4)"
   ]
  },
  {
   "cell_type": "code",
   "execution_count": 34,
   "id": "66e2a0ae",
   "metadata": {},
   "outputs": [
    {
     "data": {
      "image/png": "[encoded data removed]",
      "text/plain": [
       "<Figure size 432x288 with 1 Axes>"
      ]
     },
     "metadata": {
      "needs_background": "light"
     },
     "output_type": "display_data"
    }
   ],
   "source": [
    "plt.figsize=(8,6)\n",
    "plt.plot(n, char_bf, label=\"brute-force\")\n",
    "plt.plot(n, char_bm, label=\"boyer-moore\")\n",
    "plt.plot(n, char_kmp, label=\"kmp\")\n",
    "plt.xlabel(\"Number of inputs\")\n",
    "plt.ylabel(\"Number of Character Comparisons\")\n",
    "plt.legend()\n",
    "plt.show()"
   ]
  },
  {
   "cell_type": "code",
   "execution_count": 35,
   "id": "5250f3e5",
   "metadata": {},
   "outputs": [
    {
     "data": {
      "image/png": "[encoded data removed]",
      "text/plain": [
       "<Figure size 432x288 with 1 Axes>"
      ]
     },
     "metadata": {
      "needs_background": "light"
     },
     "output_type": "display_data"
    }
   ],
   "source": [
    "plt.figsize=(8,6)\n",
    "plt.plot(n, time1, label=\"brute-force\")\n",
    "plt.plot(n, time2, label=\"boyer-moore\")\n",
    "plt.plot(n, time3, label=\"kmp\")\n",
    "plt.xlabel(\"Number of inputs\")\n",
    "plt.ylabel(\"Runtime\")\n",
    "plt.legend()\n",
    "plt.show()"
   ]
  },
  {
   "cell_type": "markdown",
   "id": "cd71e74e",
   "metadata": {},
   "source": [
    "## Solution:\n",
    "\n",
    "1. We calculated the character comparisons and runtimes for all the three pattern matching algorithms : Brute-Force, Boyer-Moore and KMP.\n",
    "2. The KMP pattern matching algorithm follows a degenrative property. In this approach, when we get a match with our window and the text, we shift the window by 1 and then we directly check the last character of the window with the character in the text. This is because we already know that the previous characters had matched the characters of the text. This reduces the time complexity. If we get a mismatch we then check each character of window starting from the last position of window. \n",
    "3. We perform this step till we get a match and then the same steps are performed.\n",
    "4. The Boyer-Moore algorithm follows a backward approach. In this, the pattern P is alligned with the beginning of the text D and then it directly checks the last character of P with T.\n",
    "5. If there is mismatch yet the character is present in the pattern then the pattern is alligned with text along the last occurence of the character in the pattern.\n",
    "6. In case if a character is not present within the pattern then no match can be found for this and so the pattern is sifted entirely past the mismatching character.\n",
    "7. After checking the number of comparisons for the three algorithms, we found that the Boyer-Moore algorithm performed the least number of character comparisons and the KMP algorithm performed the most number of comparisons slightly above Brute-Force.\n",
    "8. After checking the running time, we found that the Boyer-Moore was faster compared to KMP and Brute-Force algorithms."
   ]
  },
  {
   "cell_type": "markdown",
   "id": "5235ddf2",
   "metadata": {},
   "source": [
    "## Problem 3: Matrix-chain Multiplication\n",
    "\n",
    "#### he matrix-chain multiplication problem: Given a chain of < D1, D2, . . . , Dn > of n matrices fully parenthesize the product < D1 ·D2 ···Dn > in a way so that the number of scalar multiplications is minimized. Each Di has a pi−1 ×pi dimension and i = 1, 2, . . . , n."
   ]
  },
  {
   "cell_type": "markdown",
   "id": "4e518607",
   "metadata": {},
   "source": [
    "The Brute Force Approach :"
   ]
  },
  {
   "cell_type": "code",
   "execution_count": 14,
   "id": "b62cd66c",
   "metadata": {},
   "outputs": [
    {
     "name": "stdout",
     "output_type": "stream",
     "text": [
      "The minimum number of multiplications using the Brute Force approach is :\n",
      "30\n"
     ]
    }
   ],
   "source": [
    "def MatrixChainOrder2(p,i,j):\n",
    "    if i == j:\n",
    "        return 0\n",
    "  \n",
    "    minVal = float('inf')\n",
    "\n",
    "    for k in range(i,j):\n",
    "        #print(p[i],p[j])\n",
    "        count = (MatrixChainOrder2(p,i,k) + MatrixChainOrder2(p,k + 1,j)+ p[i-1]*p[k]*p[j])\n",
    "        \n",
    "        if count < minVal:\n",
    "            minVal = count\n",
    "      \n",
    "    return minVal\n",
    "  \n",
    "  \n",
    "l = [1, 2, 3, 4, 3]\n",
    "n = len(l)\n",
    "  \n",
    "print(\"The minimum number of multiplications using the Brute Force approach is :\")\n",
    "print(MatrixChainOrder2(l,1,n-1))"
   ]
  },
  {
   "cell_type": "markdown",
   "id": "8691415b",
   "metadata": {},
   "source": [
    "The Dynamic Programming Approach :"
   ]
  },
  {
   "cell_type": "code",
   "execution_count": 30,
   "id": "8b65ad75",
   "metadata": {},
   "outputs": [
    {
     "name": "stdout",
     "output_type": "stream",
     "text": [
      "The matrix after computing optimal costs is : \n",
      "[[    0 15750  7875  9375 11875 15125]\n",
      " [    0     0  2625  4375  7125 10500]\n",
      " [    0     0     0   750  2500  5375]\n",
      " [    0     0     0     0  1000  3500]\n",
      " [    0     0     0     0     0  5000]\n",
      " [    0     0     0     0     0     0]]\n",
      "\n",
      "\n",
      "The matrix required for computing optimal solution is : \n",
      "[[1 1 3 3 3]\n",
      " [0 2 3 3 3]\n",
      " [0 0 3 3 3]\n",
      " [0 0 0 4 5]\n",
      " [0 0 0 0 5]]\n",
      "\n",
      "\n",
      "The parenthesization for the matrix multiplication is : \n",
      "((A1(A2A3))((A4A5)A6))\n",
      "\n",
      "The minimum number of multiplications is : \n",
      "15125\n"
     ]
    }
   ],
   "source": [
    "import numpy as np\n",
    "\n",
    "def printOptimalParents(s,i,j):\n",
    "    if i==j:\n",
    "        print(\"A{}\".format(i) ,end=\"\")\n",
    "    else:\n",
    "        print(\"(\",end=\"\")\n",
    "        printOptimalParents(s,i,s[i][j])\n",
    "        printOptimalParents(s,s[i][j]+1,j)\n",
    "        print(\")\",end=\"\")\n",
    "\n",
    "def MatrixChainOrder(p):\n",
    "    n = len(p)\n",
    "    m = [[0 for x in range(n)] for x in range(n)]\n",
    "    s = [[0 for x in range(n)] for x in range(n)]\n",
    "    for l in range(2,n):\n",
    "        #print('l = ',l)\n",
    "        for i in range(1,n-l+1):\n",
    "            #print('i = ',i)\n",
    "            j = i+l-1\n",
    "            #print('j = ',j)\n",
    "            m[i][j] = float('inf')\n",
    "            \n",
    "            for k in range(i,j):\n",
    "                #print('k = ',k , 'i = ',i , 'j = ',j, 'l = ',l)\n",
    "                q = m[i][k]+m[k+1][j]+p[i-1]*p[k]*p[j]\n",
    "                #print(q)\n",
    "                if q<m[i][j]:\n",
    "                    #print('inside if')\n",
    "                    m[i][j]=q\n",
    "                    s[i][j]=k\n",
    "                    #print(s)\n",
    "    #print(m)\n",
    "    m1 = np.array(m)\n",
    "    #print(m1)\n",
    "    print(\"The matrix after computing optimal costs is : \")\n",
    "    print(m1[1:,1:])\n",
    "    print(\"\\n\")\n",
    "    s1 = np.array(s)\n",
    "    print(\"The matrix required for computing optimal solution is : \")\n",
    "    print(s1[1:-1,2:])\n",
    "    print(\"\\n\")\n",
    "    print(\"The parenthesization for the matrix multiplication is : \")\n",
    "    printOptimalParents(s,i,j)\n",
    "    print(\"\\n\")\n",
    "    #a=printOptimalParents(s,i,j)\n",
    "    #print(type(a))\n",
    "    return (m1[1,-1],s1[1:-1,2:])\n",
    "            \n",
    "    \n",
    "p = [30,35,15,5,10,20,25]\n",
    "result = MatrixChainOrder(p)\n",
    "print(\"The minimum number of multiplications is : \")\n",
    "print(result[0])"
   ]
  },
  {
   "cell_type": "markdown",
   "id": "17abf2a8",
   "metadata": {},
   "source": [
    "The Memoization Approach using Dynamic Programming :"
   ]
  },
  {
   "cell_type": "code",
   "execution_count": 16,
   "id": "cbc60bff",
   "metadata": {},
   "outputs": [
    {
     "name": "stdout",
     "output_type": "stream",
     "text": [
      "The minimum number of multiplications using Memoization is :\n",
      "15125\n"
     ]
    }
   ],
   "source": [
    "m = [[-1 for x in range(100)] for x in range(100)]\n",
    "def MatrixChainOrderMemo(p,i,j):\n",
    "    if i==j:\n",
    "        return 0\n",
    "    if m[i][j]!=-1:\n",
    "        return m[i][j]\n",
    "    m[i][j] = float('inf')\n",
    "    for k in range(i,j):\n",
    "        m[i][j] = min(m[i][j],MatrixChainOrderMemo(p,i,k) + MatrixChainOrderMemo(p,k+1,j) + p[i-1]*p[k]*p[j])\n",
    "        \n",
    "    #m[i][j]=count\n",
    "    #print(m[i][j])\n",
    "    return m[i][j]\n",
    "\n",
    "p = [30,35,15,5,10,20,25]\n",
    "n = len(p)\n",
    "  \n",
    "print(\"The minimum number of multiplications using Memoization is :\")\n",
    "print(MatrixChainOrderMemo(p,1,n-1))"
   ]
  },
  {
   "cell_type": "code",
   "execution_count": 21,
   "id": "2a71b033",
   "metadata": {},
   "outputs": [
    {
     "name": "stdout",
     "output_type": "stream",
     "text": [
      "The running time for Matrix Chain Multiplication using Brute Force is : 2.8633363246917725\n"
     ]
    }
   ],
   "source": [
    "import time\n",
    "\n",
    "p = [x for x in range(16)]\n",
    "start1 = time.time()\n",
    "MatrixChainOrder2(p,1,len(p)-1)\n",
    "end1 = time.time()\n",
    "running_time = end1 - start1\n",
    "print(\"The running time for Matrix Chain Multiplication using Brute Force is :\",running_time)"
   ]
  },
  {
   "cell_type": "code",
   "execution_count": 27,
   "id": "0690e441",
   "metadata": {},
   "outputs": [
    {
     "name": "stdout",
     "output_type": "stream",
     "text": [
      "The running time for Matrix Chain Multiplication using Dynamic Bottom-Up approach is : 0.000997304916381836\n"
     ]
    }
   ],
   "source": [
    "p = [x for x in range(16)]\n",
    "start3 = time.time()\n",
    "MatrixChainOrder(p)\n",
    "end3 = time.time()\n",
    "running_time3 = end3 - start3\n",
    "print(\"The running time for Matrix Chain Multiplication using Dynamic Bottom-Up approach is :\",running_time3)"
   ]
  },
  {
   "cell_type": "code",
   "execution_count": 29,
   "id": "24918af7",
   "metadata": {},
   "outputs": [
    {
     "name": "stdout",
     "output_type": "stream",
     "text": [
      "The running time for Matrix Chain Multiplication using Memoization is : 0.0009965896606445312\n"
     ]
    }
   ],
   "source": [
    "m = [[-1 for x in range(100)] for x in range(100)]\n",
    "p = [x for x in range(16)]\n",
    "#print(p)\n",
    "start4 = time.time()\n",
    "MatrixChainOrderMemo(p,1,len(p)-1)\n",
    "end4 = time.time()\n",
    "running_time4 = end4 - start4\n",
    "print(\"The running time for Matrix Chain Multiplication using Memoization is :\",running_time4)"
   ]
  },
  {
   "cell_type": "markdown",
   "id": "0c4af58a",
   "metadata": {},
   "source": [
    "## Solution:\n",
    "\n",
    "1. We have implemented the Matrix Chain Multiplication program to using three approaches : Brute Force, Dynamic Programming and Memoization.\n",
    "2. The Matrix Chain Multiplication problem does not calculate the product of the matrices. It determines the order in which the matrices are multiplied i.e. the parenthesization of the resultant matrix in such a way that the number of scalar multiplication operations are least minimum.\n",
    "3. Our first approach which is the Brute Force approach is a rather simplistic and naive way of calculating the least number of operations. This is a recursive approach which enumerates all possible parenthesizations for the product matrix. We then choose the minimum number of operations from the computed costs to determine an effective way of multiplying the matrices. This approach is very inefficient as it runs in exponential time.\n",
    "4. To improve our solution, we solved this problem again this time using Dynamic Programming. We created two matrices m and s at first which have only zeroes inside. We then calculated the optimal cost of multiplication operations and stored them in matrix m by recursively breaking our problem into sub-problems and calculating optimal costs as per the index at which parenthesization occurs.\n",
    "5. We then stored this index in matrix s. Then we finally used the matrix s to print the parenthesis and order of multiplication of matrices. Doin all this required a time complexity of O(n^3)\n",
    "6. We futher improved our solution by implementing this program using memoization. In this, we computed a cost once and stored it so that it can be used for further computation. We therefore do not need to find the cost again and again and it saves a lot of time.\n",
    "7. We also calculated runtimes for each approach and found that Brute-Force was extremely slow compared to Dynmamic and Memoization. The memoization was a bit fast compared to the dynamic approach."
   ]
  },
  {
   "cell_type": "markdown",
   "id": "c49a5ac2",
   "metadata": {},
   "source": [
    "## Problem 4: Longest Common Sub-sequence (LCS) Problem\n",
    "\n",
    "Implement a Python program to solve LCS problem using dynamic programming. Run your program to find the best sequence alignment between DNA strings. Show your results. Longest Common Sub-sequence (LCS) problem: Given two character strings over some\n",
    "alphabet, find a longest string that is a sub-sequence of given two strings."
   ]
  },
  {
   "cell_type": "code",
   "execution_count": 17,
   "id": "42d287a5",
   "metadata": {},
   "outputs": [],
   "source": [
    "def LCS (A,B):\n",
    "    \n",
    "    n1 = len(A)\n",
    "    n2 = len(B)\n",
    "    \n",
    "    lcs = [[0] * (n2 + 1)  for i in range(n1+1)]  # created the lcs table for storing the values\n",
    "    \n",
    "    for i in range (n1 + 1):\n",
    "        for j in range(n2 + 1):\n",
    "            if i == 0 or j == 0:   # storing 0's in the first row and first column\n",
    "                lcs[i][j] = 0\n",
    "            elif A[i - 1] == B[j - 1]:  # when there is a match, we add 1 to the value of the previous row or previous column\n",
    "                lcs[i][j] = 1 + lcs[i - 1][j - 1]\n",
    "            else:\n",
    "                lcs[i][j] = max(lcs[i - 1][j], lcs[i][j - 1])  # when there is a mismatch we store the maximum value among the value of previous row and value of previous column\n",
    "    \n",
    "    idx = lcs[n1][n2] # value of last unit of the matrix which is the length of the longest common subsequence\n",
    "    print (f'\\nLength of the longest common subsequence is {idx}')\n",
    "    \n",
    "    \n",
    "    lcs_string = [\"\"] * idx\n",
    "    \n",
    "    m = n1\n",
    "    n = n2\n",
    "    \n",
    "    # Printing the LCS from the LCS table\n",
    "    while m > 0 and n > 0:\n",
    "        \n",
    "        if A[m - 1] == B[n - 1]:  # when there is a match, we store that character in our string array and decrement the indices\n",
    "            lcs_string[idx - 1] = B[n - 1]\n",
    "            idx -= 1\n",
    "            m -= 1\n",
    "            n -= 1\n",
    "            \n",
    "        elif lcs[m - 1][n] > lcs[m][n - 1]:\n",
    "            m -= 1\n",
    "        else:\n",
    "            n -= 1\n",
    "    \n",
    "    lcs_string_join = (''.join(lcs_string))\n",
    "    print(f'\\nThe Longest Common Sub-sequence of strings \"{A}\" and \"{B}\" is {lcs_string_join}')"
   ]
  },
  {
   "cell_type": "code",
   "execution_count": 18,
   "id": "70ee0b65",
   "metadata": {},
   "outputs": [
    {
     "name": "stdout",
     "output_type": "stream",
     "text": [
      "\n",
      "Length of the longest common subsequence is 3\n",
      "\n",
      "The Longest Common Sub-sequence of strings \"stone\" and \"longest\" is one\n",
      "\n",
      "Length of the longest common subsequence is 20\n",
      "\n",
      "The Longest Common Sub-sequence of strings \"ACCGGTCGAGTGCGCGGAAGCCGGCCGAA\" and \"GTCGTTCGGAATGCCGTTGCTCTGTAAA\" is GTCGTCGGAAGCCGGCCGAA\n"
     ]
    }
   ],
   "source": [
    "LCS('stone', 'longest')\n",
    "LCS('ACCGGTCGAGTGCGCGGAAGCCGGCCGAA','GTCGTTCGGAATGCCGTTGCTCTGTAAA')"
   ]
  },
  {
   "cell_type": "markdown",
   "id": "b7021ab0",
   "metadata": {},
   "source": [
    "## Solution:\n",
    "\n",
    "1. We have implemented the Longest Common Subsequence Problem using Dynamic Programming which follows a bottom-up approach. In      this algorithm, we are finding the sequence that appears in the same order and is present in both the strings. \n",
    "2. There may be multiple sequences having same order, however we find the longest sequence among these. \n",
    "3. This algorithm can also be implemented using the Naive Approach. In this we check all the subsequences of first and second      string and keep track of the maximum i.e. the longest sequence. However the time complexity for this is  O(n^2 * m) where        O(n^2) is the complexity for getting the substring and O(m) is the complexity for checking the substring with that of the        second string. \n",
    "4. For implementing this dynamically, we created a matrix lcs of size n1 * n2 where n1 and n2 are lengths of strings A and B        respectively. \n",
    "5. This matrix is used to store the solutions of substrings which we can use later. \n",
    "6. The values in this matrix are set to 1 when there is a match and set to maximum value of previous row and column values. 7. 7. After iterating through the matrix the last value in the matrix which we get is the length of longest common subsequence. \n",
    "8. The time complexity using this approach is O(n * m)."
   ]
  }
 ],
 "metadata": {
  "kernelspec": {
   "display_name": "Python 3",
   "language": "python",
   "name": "python3"
  },
  "language_info": {
   "codemirror_mode": {
    "name": "ipython",
    "version": 3
   },
   "file_extension": ".py",
   "mimetype": "text/x-python",
   "name": "python",
   "nbconvert_exporter": "python",
   "pygments_lexer": "ipython3",
   "version": "3.8.8"
  }
 },
 "nbformat": 4,
 "nbformat_minor": 5
}
